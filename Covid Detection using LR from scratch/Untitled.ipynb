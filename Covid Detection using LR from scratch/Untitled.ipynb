{
 "cells": [
  {
   "cell_type": "code",
   "execution_count": 70,
   "metadata": {},
   "outputs": [],
   "source": [
    "import numpy as np\n",
    "import matplotlib.pyplot as plt \n",
    "import cv2\n",
    "import math\n",
    "import pandas as pd\n",
    "from sklearn.utils import shuffle\n",
    "import h5py\n",
    "from pylab import *\n",
    "np.random.seed(1)"
   ]
  },
  {
   "cell_type": "markdown",
   "metadata": {},
   "source": [
    "## Load Dataset"
   ]
  },
  {
   "cell_type": "code",
   "execution_count": 2,
   "metadata": {},
   "outputs": [],
   "source": [
    "train_images=pd.read_csv('dataset/traindata.csv') #read the csv file\n",
    "test_images=pd.read_csv('dataset/testdata.csv')\n",
    "train_images_shuffled=shuffle(train_images)\n",
    "test_images_shuffled=shuffle(test_images)"
   ]
  },
  {
   "cell_type": "code",
   "execution_count": 3,
   "metadata": {},
   "outputs": [],
   "source": [
    "def load_dataset():\n",
    "    #train_dataset\n",
    "\n",
    "    train_img_path=train_images_shuffled['Xray-img']\n",
    "    train_images_rgb=[]\n",
    "    for i in train_img_path:\n",
    "        img=cv2.imread(i)\n",
    "        train_images_rgb.append(img)\n",
    "    train_set_x_orig=np.asarray(train_images_rgb)\n",
    "    train_set_y_orig =np.array(train_images_shuffled[\"has-covid19\"][:])\n",
    "    train_set_y_orig =train_set_y_orig.reshape((1, train_set_y_orig.shape[0]))\n",
    "    train_classes=np.array(train_images_shuffled[\"classes\"][:])\n",
    "    \n",
    "    #test_dataset\n",
    "    test_img_path=test_images_shuffled['Xray-img']\n",
    "    test_images_rgb=[]\n",
    "    for i in test_img_path:\n",
    "        img=cv2.imread(i)\n",
    "        test_images_rgb.append(img)\n",
    "    test_set_x_orig=np.asarray(test_images_rgb)\n",
    "    test_set_y_orig =np.array(test_images_shuffled[\"has-covid19\"][:])\n",
    "    test_set_y_orig =test_set_y_orig.reshape((1, test_set_y_orig.shape[0]))\n",
    "    test_classes=np.array(test_images_shuffled[\"classes\"][:])\n",
    "    \n",
    "    return train_set_x_orig, train_set_y_orig,test_set_x_orig, test_set_y_orig,train_classes,test_classes\n"
   ]
  },
  {
   "cell_type": "code",
   "execution_count": 55,
   "metadata": {},
   "outputs": [],
   "source": [
    "train_set_x_orig, train_set_y, test_set_x_orig, test_set_y,train_classes,test_classes=load_dataset()"
   ]
  },
  {
   "cell_type": "markdown",
   "metadata": {},
   "source": [
    "## Reshape"
   ]
  },
  {
   "cell_type": "code",
   "execution_count": 56,
   "metadata": {},
   "outputs": [],
   "source": [
    "train_set_x_orig =train_set_x_orig.reshape(train_set_x_orig.shape[0], -1).T\n",
    "test_set_x_orig =test_set_x_orig.reshape(test_set_x_orig.shape[0], -1).T"
   ]
  },
  {
   "cell_type": "markdown",
   "metadata": {},
   "source": [
    "## Standardize"
   ]
  },
  {
   "cell_type": "code",
   "execution_count": 57,
   "metadata": {},
   "outputs": [
    {
     "data": {
      "text/plain": [
       "(1, 136)"
      ]
     },
     "execution_count": 57,
     "metadata": {},
     "output_type": "execute_result"
    }
   ],
   "source": [
    "train_set_x =train_set_x_orig/255.\n",
    "test_set_x =test_set_x_orig/255.\n",
    "train_set_y.shape"
   ]
  },
  {
   "cell_type": "code",
   "execution_count": 58,
   "metadata": {},
   "outputs": [
    {
     "data": {
      "text/plain": [
       "(12288, 136)"
      ]
     },
     "execution_count": 58,
     "metadata": {},
     "output_type": "execute_result"
    }
   ],
   "source": [
    "train_set_x.shape"
   ]
  },
  {
   "cell_type": "code",
   "execution_count": null,
   "metadata": {},
   "outputs": [],
   "source": []
  },
  {
   "cell_type": "code",
   "execution_count": 8,
   "metadata": {},
   "outputs": [],
   "source": [
    "def initialize_parameters(n):\n",
    "    #theta=np.random.randint(-1,2,size=[n,1])\n",
    "    theta=np.zeros([n,1])\n",
    "    return theta"
   ]
  },
  {
   "cell_type": "code",
   "execution_count": 9,
   "metadata": {},
   "outputs": [],
   "source": [
    "def sigmoid(z):\n",
    "    hx=1/(1+(np.exp(-z)))\n",
    "    return hx"
   ]
  },
  {
   "cell_type": "code",
   "execution_count": 10,
   "metadata": {},
   "outputs": [],
   "source": [
    "def cost(hx,X,y):\n",
    "    m=y.shape[1]\n",
    "    cost=-((1/m)*np.sum((y*np.log(hx)+(1-y)*(np.log(1-hx))))) \n",
    "    return cost"
   ]
  },
  {
   "cell_type": "code",
   "execution_count": 11,
   "metadata": {},
   "outputs": [],
   "source": [
    "def derivative_of_cost(X,hx,y):\n",
    "    m=y.shape[1]\n",
    "    d_theeta=(1/m)*(np.sum(X*(hx-y),axis=1,keepdims=True))\n",
    "    return d_theeta"
   ]
  },
  {
   "cell_type": "code",
   "execution_count": 12,
   "metadata": {},
   "outputs": [],
   "source": [
    "def predict(theta, X):\n",
    "    m = X.shape[1]\n",
    "    Y_prediction = np.zeros((1,m))\n",
    "    z=np.dot(theta.T,X)\n",
    "    A =sigmoid(z)\n",
    "    for i in range(A.shape[1]):\n",
    "        Y_prediction[0,i]=np.where(A[0,i]>=0.5,1,0)        \n",
    "    \n",
    "    return Y_prediction"
   ]
  },
  {
   "cell_type": "code",
   "execution_count": 13,
   "metadata": {},
   "outputs": [],
   "source": [
    "def confusion_matrix(Y_prediction,Y):\n",
    "    ##compressed the 4 lines\n",
    "    #condition_1 = (Y_prediction_test == 1)\n",
    "    #condition_2 = (Y_test == 1)\n",
    "    #part1 = np.where(condition_1 & condition_2)\n",
    "    #result = len(part1[1])\n",
    "    TP=len((np.where((Y_prediction == 1) & (Y == 1)))[1])\n",
    "    TN=len((np.where((Y_prediction == 0) & (Y == 0)))[1])\n",
    "    FP=len((np.where((Y_prediction == 1) & (Y == 0)))[1])\n",
    "    FN=len((np.where((Y_prediction == 0) & (Y == 1)))[1])\n",
    "    \n",
    "    accuracy=(TP+TN)/(TP+TN+FP+FN)\n",
    "    recall=(TP)/(TP+FN)\n",
    "    precision=(TP)/(TP+FP)\n",
    "    return accuracy,recall,precision"
   ]
  },
  {
   "cell_type": "code",
   "execution_count": 67,
   "metadata": {},
   "outputs": [],
   "source": [
    "def model(alpha,X,Y,num_of_iterations):\n",
    "    m=Y.shape[1]\n",
    "    costs=[]\n",
    "    theta=initialize_parameters(X.shape[0])\n",
    "    prev_weights=np.copy(theta)\n",
    "    for i in range(num_of_iterations):\n",
    "        z=np.dot(theta.T,X)\n",
    "        hx=sigmoid(z)\n",
    "        J=cost(hx,X,Y)\n",
    "        der=derivative_of_cost(X,hx,Y)\n",
    "        theta=theta-(alpha)*(der)\n",
    "        if i % 50 == 0:\n",
    "            costs.append(J)\n",
    "            print(\"cost after \"+str(i)+\" iterations\"+str(J))\n",
    "    Y_prediction_test =predict(theta, X_test)\n",
    "    Y_prediction_train = predict(theta, X_train)\n",
    "    \n",
    "    train_accuracy,train_recall,train_precision=confusion_matrix(Y_prediction_train,Y_train)\n",
    "    test_accuracy,test_recall,test_precision=confusion_matrix(Y_prediction_test,Y_test)\n",
    "    \n",
    "    print(\"Train dataset:\")\n",
    "    print(\"Accuracy :\"+str(train_accuracy))\n",
    "    print(\"Recall :\"+str(train_recall))\n",
    "    print(\"Precision :\"+str(train_precision))\n",
    "    \n",
    "    print(\"Test dataset:\")\n",
    "    print(\"Accuracy :\"+str(test_accuracy))\n",
    "    print(\"Recall :\"+str(test_recall))\n",
    "    print(\"Precision :\"+str(test_precision))\n",
    "    \n",
    "    return costs\n",
    "    "
   ]
  },
  {
   "cell_type": "code",
   "execution_count": 59,
   "metadata": {},
   "outputs": [],
   "source": [
    "#append X_train\n",
    "X=np.ones([1,train_set_x.shape[1]])\n",
    "X_train=np.append(X,train_set_x,axis=0) #(n+1,m) \n",
    "Y_train=train_set_y"
   ]
  },
  {
   "cell_type": "code",
   "execution_count": 61,
   "metadata": {},
   "outputs": [],
   "source": [
    "#append X_test\n",
    "X=np.ones([1,test_set_x.shape[1]])#(1,m)\n",
    "X_test=np.append(X,test_set_x,axis=0) #(n+1,m)\n",
    "Y_test=test_set_y"
   ]
  },
  {
   "cell_type": "code",
   "execution_count": 68,
   "metadata": {},
   "outputs": [
    {
     "name": "stdout",
     "output_type": "stream",
     "text": [
      "cost after 0 iterations0.6931471805599453\n",
      "cost after 50 iterations0.1140097012738077\n",
      "cost after 100 iterations0.08694979885328061\n",
      "cost after 150 iterations0.07092023596040574\n",
      "cost after 200 iterations0.06041126149522784\n",
      "cost after 250 iterations0.0528209077047023\n",
      "cost after 300 iterations0.04696007766891963\n",
      "cost after 350 iterations0.04226028105018052\n",
      "cost after 400 iterations0.038399989263858104\n",
      "cost after 450 iterations0.035172048707235955\n",
      "Train dataset:\n",
      "Accuracy :1.0\n",
      "Recall :1.0\n",
      "Precision :1.0\n",
      "Test dataset:\n",
      "Accuracy :0.9411764705882353\n",
      "Recall :0.8333333333333334\n",
      "Precision :1.0\n"
     ]
    }
   ],
   "source": [
    "costs=model(0.01,X_train,Y_train,num_of_iterations=500)"
   ]
  },
  {
   "cell_type": "code",
   "execution_count": 71,
   "metadata": {},
   "outputs": [
    {
     "data": {
      "text/plain": [
       "[<matplotlib.lines.Line2D at 0x1c44943bb48>]"
      ]
     },
     "execution_count": 71,
     "metadata": {},
     "output_type": "execute_result"
    },
    {
     "data": {
      "image/png": "[encoded data removed]",
      "text/plain": [
       "<Figure size 432x288 with 1 Axes>"
      ]
     },
     "metadata": {
      "needs_background": "light"
     },
     "output_type": "display_data"
    }
   ],
   "source": [
    "plot(costs)"
   ]
  },
  {
   "cell_type": "code",
   "execution_count": null,
   "metadata": {},
   "outputs": [],
   "source": []
  }
 ],
 "metadata": {
  "kernelspec": {
   "display_name": "Python 3",
   "language": "python",
   "name": "python3"
  },
  "language_info": {
   "codemirror_mode": {
    "name": "ipython",
    "version": 3
   },
   "file_extension": ".py",
   "mimetype": "text/x-python",
   "name": "python",
   "nbconvert_exporter": "python",
   "pygments_lexer": "ipython3",
   "version": "3.7.4"
  }
 },
 "nbformat": 4,
 "nbformat_minor": 2
}
