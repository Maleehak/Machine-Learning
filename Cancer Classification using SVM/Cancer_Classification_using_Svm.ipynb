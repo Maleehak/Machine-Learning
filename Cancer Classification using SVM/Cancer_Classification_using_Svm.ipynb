{
  "nbformat": 4,
  "nbformat_minor": 0,
  "metadata": {
    "colab": {
      "name": "Cancer Classification using Svm.ipynb",
      "provenance": []
    },
    "kernelspec": {
      "name": "python3",
      "display_name": "Python 3"
    }
  },
  "cells": [
    {
      "cell_type": "code",
      "metadata": {
        "id": "rUUEHOfxoCX5",
        "colab_type": "code",
        "colab": {}
      },
      "source": [
        "from sklearn import datasets\n",
        "from sklearn import svm\n",
        "from sklearn.neighbors import KNeighborsClassifier\n",
        "from sklearn import metrics\n",
        "from sklearn.model_selection import train_test_split"
      ],
      "execution_count": null,
      "outputs": []
    },
    {
      "cell_type": "code",
      "metadata": {
        "id": "7m559mEaoR2g",
        "colab_type": "code",
        "colab": {}
      },
      "source": [
        "cancer_dataset=datasets.load_breast_cancer()"
      ],
      "execution_count": null,
      "outputs": []
    },
    {
      "cell_type": "code",
      "metadata": {
        "id": "UXY80lwYox2m",
        "colab_type": "code",
        "colab": {}
      },
      "source": [
        "X=cancer_dataset.data\n",
        "y=cancer_dataset.target\n",
        "classes=['malignant', 'benign']"
      ],
      "execution_count": null,
      "outputs": []
    },
    {
      "cell_type": "code",
      "metadata": {
        "id": "v7W0X47tpOYp",
        "colab_type": "code",
        "colab": {}
      },
      "source": [
        "x_train,x_test,y_train,y_test=train_test_split(X,y,test_size=0.2)"
      ],
      "execution_count": null,
      "outputs": []
    },
    {
      "cell_type": "code",
      "metadata": {
        "id": "MBQo00jhpcHc",
        "colab_type": "code",
        "colab": {}
      },
      "source": [
        "model1=svm.SVC(kernel=\"linear\")\n",
        "model1.fit(x_train,y_train)\n",
        "y_pred=model1.predict(x_test)"
      ],
      "execution_count": null,
      "outputs": []
    },
    {
      "cell_type": "code",
      "metadata": {
        "id": "lKUVEYQZpn_J",
        "colab_type": "code",
        "colab": {}
      },
      "source": [
        "acc=metrics.accuracy_score(y_pred=y_pred,y_true=y_test)"
      ],
      "execution_count": null,
      "outputs": []
    },
    {
      "cell_type": "code",
      "metadata": {
        "id": "bRfCcSgXvrOR",
        "colab_type": "code",
        "colab": {
          "base_uri": "https://localhost:8080/",
          "height": 34
        },
        "outputId": "210377ee-286e-4f0f-b5f9-bc2be09d63cd"
      },
      "source": [
        "acc"
      ],
      "execution_count": null,
      "outputs": [
        {
          "output_type": "execute_result",
          "data": {
            "text/plain": [
              "0.9649122807017544"
            ]
          },
          "metadata": {
            "tags": []
          },
          "execution_count": 41
        }
      ]
    },
    {
      "cell_type": "code",
      "metadata": {
        "id": "9n2ms6Aovr4n",
        "colab_type": "code",
        "colab": {}
      },
      "source": [
        ""
      ],
      "execution_count": null,
      "outputs": []
    },
    {
      "cell_type": "markdown",
      "metadata": {
        "id": "04_IBeiJwW7f",
        "colab_type": "text"
      },
      "source": [
        "KNeighbors"
      ]
    },
    {
      "cell_type": "code",
      "metadata": {
        "id": "gZh-dK-Xwau8",
        "colab_type": "code",
        "colab": {}
      },
      "source": [
        "model1=KNeighborsClassifier(n_neighbors=3)\n",
        "model1.fit(x_train,y_train)\n",
        "y_pred=model1.predict(x_test)"
      ],
      "execution_count": null,
      "outputs": []
    },
    {
      "cell_type": "code",
      "metadata": {
        "id": "3-Udw_nzwmO3",
        "colab_type": "code",
        "colab": {}
      },
      "source": [
        "acc=metrics.accuracy_score(y_pred=y_pred,y_true=y_test)"
      ],
      "execution_count": null,
      "outputs": []
    },
    {
      "cell_type": "code",
      "metadata": {
        "id": "9E9UJ2D9wotf",
        "colab_type": "code",
        "colab": {
          "base_uri": "https://localhost:8080/",
          "height": 34
        },
        "outputId": "f045d987-ec14-4646-b06d-5ee451e55cb3"
      },
      "source": [
        "acc"
      ],
      "execution_count": null,
      "outputs": [
        {
          "output_type": "execute_result",
          "data": {
            "text/plain": [
              "0.9385964912280702"
            ]
          },
          "metadata": {
            "tags": []
          },
          "execution_count": 18
        }
      ]
    },
    {
      "cell_type": "code",
      "metadata": {
        "id": "KmUBajLcwspB",
        "colab_type": "code",
        "colab": {}
      },
      "source": [
        ""
      ],
      "execution_count": null,
      "outputs": []
    }
  ]
}