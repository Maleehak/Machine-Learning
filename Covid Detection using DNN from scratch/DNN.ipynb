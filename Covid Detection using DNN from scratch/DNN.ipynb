{
 "cells": [
  {
   "cell_type": "code",
   "execution_count": 1,
   "metadata": {},
   "outputs": [],
   "source": [
    "import numpy as np\n",
    "import matplotlib.pyplot as plt \n",
    "import cv2\n",
    "import math\n",
    "import pandas as pd\n",
    "from sklearn.utils import shuffle\n",
    "import h5py\n",
    "np.random.seed(1)"
   ]
  },
  {
   "cell_type": "markdown",
   "metadata": {},
   "source": [
    "## Load Dataset"
   ]
  },
  {
   "cell_type": "code",
   "execution_count": 2,
   "metadata": {},
   "outputs": [],
   "source": [
    "train_images=pd.read_csv('dataset/traindata.csv') #read the csv file\n",
    "test_images=pd.read_csv('dataset/testdata.csv')\n",
    "train_images_shuffled=shuffle(train_images)\n",
    "test_images_shuffled=shuffle(test_images)"
   ]
  },
  {
   "cell_type": "code",
   "execution_count": 3,
   "metadata": {},
   "outputs": [],
   "source": [
    "def load_dataset():\n",
    "    #train_dataset\n",
    "\n",
    "    train_img_path=train_images_shuffled['Xray-img']\n",
    "    train_images_rgb=[]\n",
    "    for i in train_img_path:\n",
    "        img=cv2.imread(i)\n",
    "        train_images_rgb.append(img)\n",
    "    train_set_x_orig=np.asarray(train_images_rgb)\n",
    "    train_set_y_orig =np.array(train_images_shuffled[\"has-covid19\"][:])\n",
    "    train_set_y_orig =train_set_y_orig.reshape((1, train_set_y_orig.shape[0]))\n",
    "    train_classes=np.array(train_images_shuffled[\"classes\"][:])\n",
    "    \n",
    "    #test_dataset\n",
    "    test_img_path=test_images_shuffled['Xray-img']\n",
    "    test_images_rgb=[]\n",
    "    for i in test_img_path:\n",
    "        img=cv2.imread(i)\n",
    "        test_images_rgb.append(img)\n",
    "    test_set_x_orig=np.asarray(test_images_rgb)\n",
    "    test_set_y_orig =np.array(test_images_shuffled[\"has-covid19\"][:])\n",
    "    test_set_y_orig =test_set_y_orig.reshape((1, test_set_y_orig.shape[0]))\n",
    "    test_classes=np.array(test_images_shuffled[\"classes\"][:])\n",
    "    \n",
    "    return train_set_x_orig, train_set_y_orig,test_set_x_orig, test_set_y_orig,train_classes,test_classes\n"
   ]
  },
  {
   "cell_type": "code",
   "execution_count": 4,
   "metadata": {},
   "outputs": [],
   "source": [
    "train_set_x_orig, train_set_y, test_set_x_orig, test_set_y,train_classes,test_classes=load_dataset()"
   ]
  },
  {
   "cell_type": "code",
   "execution_count": 5,
   "metadata": {},
   "outputs": [],
   "source": [
    "#train_set_x_orig, train_set_y, test_set_x_orig, test_set_y, classes = load_data()"
   ]
  },
  {
   "cell_type": "markdown",
   "metadata": {},
   "source": [
    "## Reshape train and test data"
   ]
  },
  {
   "cell_type": "code",
   "execution_count": 6,
   "metadata": {},
   "outputs": [],
   "source": [
    "train_set_x_orig =train_set_x_orig.reshape(train_set_x_orig.shape[0], -1).T\n",
    "test_set_x_orig =test_set_x_orig.reshape(test_set_x_orig.shape[0], -1).T"
   ]
  },
  {
   "cell_type": "markdown",
   "metadata": {},
   "source": [
    "## Standardize data"
   ]
  },
  {
   "cell_type": "code",
   "execution_count": 7,
   "metadata": {
    "scrolled": true
   },
   "outputs": [
    {
     "data": {
      "text/plain": [
       "(1, 136)"
      ]
     },
     "execution_count": 7,
     "metadata": {},
     "output_type": "execute_result"
    }
   ],
   "source": [
    "train_set_x =train_set_x_orig/255.\n",
    "test_set_x =test_set_x_orig/255.\n",
    "train_set_y.shape"
   ]
  },
  {
   "cell_type": "markdown",
   "metadata": {},
   "source": [
    "## Helper Fucntions"
   ]
  },
  {
   "cell_type": "code",
   "execution_count": 8,
   "metadata": {},
   "outputs": [],
   "source": [
    "def sigmoid(z):\n",
    "    s =1/(1+np.exp(-z))\n",
    "    return s"
   ]
  },
  {
   "cell_type": "code",
   "execution_count": 9,
   "metadata": {},
   "outputs": [],
   "source": [
    "def relu(Z):\n",
    "    relu=np.maximum(0,Z)\n",
    "    return relu"
   ]
  },
  {
   "cell_type": "code",
   "execution_count": 10,
   "metadata": {},
   "outputs": [],
   "source": [
    "def getShape(X):\n",
    "    return X.shape[0]"
   ]
  },
  {
   "cell_type": "code",
   "execution_count": 11,
   "metadata": {},
   "outputs": [],
   "source": [
    "def sigmoid_derivative(dA,z):\n",
    "    return dA*z*(1-z)\n",
    "    "
   ]
  },
  {
   "cell_type": "code",
   "execution_count": 12,
   "metadata": {},
   "outputs": [],
   "source": [
    "def relu_derivative(dA,z):\n",
    "    dZ = np.array(dA, copy=True)\n",
    "    dZ[z <= 0] = 0\n",
    "    return dZ\n",
    "    \n",
    "    \n",
    "    "
   ]
  },
  {
   "cell_type": "markdown",
   "metadata": {},
   "source": [
    "## Define Model Size"
   ]
  },
  {
   "cell_type": "code",
   "execution_count": 13,
   "metadata": {},
   "outputs": [],
   "source": [
    "zero_layer=getShape(train_set_x_orig)\n",
    "n_layers=[zero_layer,3,2,3,1]"
   ]
  },
  {
   "cell_type": "markdown",
   "metadata": {},
   "source": [
    "## Initialize Parameters"
   ]
  },
  {
   "cell_type": "code",
   "execution_count": 14,
   "metadata": {},
   "outputs": [],
   "source": [
    "def initialize_parameters(n_layers,learning_rate):\n",
    "    np.random.seed(1)\n",
    "    parameters={}\n",
    "    L=len(n_layers)\n",
    "    for i in range(1,L):\n",
    "        parameters['W'+str(i)]=np.random.randn(n_layers[i],n_layers[i-1])*learning_rate;\n",
    "        #parameters['W'+str(i)]=np.zeros([n_layers[i],n_layers[i-1]]);\n",
    "        parameters['b'+str(i)]=np.zeros([n_layers[i],1]);    \n",
    "    return parameters"
   ]
  },
  {
   "cell_type": "markdown",
   "metadata": {},
   "source": [
    "## Linear Activation Forward"
   ]
  },
  {
   "cell_type": "code",
   "execution_count": 15,
   "metadata": {},
   "outputs": [],
   "source": [
    "def linear_activation_forward(X,parameters):\n",
    "    L=len(parameters)//2\n",
    "    A=X ##A0\n",
    "    AL=[]\n",
    "    caches=[] \n",
    "    for i in range(1,L): #for n-1 layers\n",
    "        W=parameters[\"W\"+str(i)]\n",
    "        b=parameters[\"b\"+str(i)]\n",
    "        A_prev=A\n",
    "        Z=np.dot(W,A_prev)+b\n",
    "        A=relu(Z)\n",
    "        #A=sigmoid(Z)\n",
    "        linear_cache=(W,b,A_prev)\n",
    "        activation_cache=Z\n",
    "        cache=(linear_cache,activation_cache)\n",
    "        caches.append(cache)\n",
    "        \n",
    "    #for nth layer\n",
    "    W=parameters[\"W\"+str(L)]\n",
    "    b=parameters[\"b\"+str(L)]\n",
    "    Z=np.dot(W,A)+b\n",
    "    AL=sigmoid(Z)        #only for last layer\n",
    "    linear_cache=(W,b,A)\n",
    "    activation_cache=Z\n",
    "    cache=(linear_cache,activation_cache)\n",
    "    caches.append(cache)\n",
    "    return AL,caches\n",
    "    "
   ]
  },
  {
   "cell_type": "markdown",
   "metadata": {},
   "source": [
    "## Cost Function"
   ]
  },
  {
   "cell_type": "code",
   "execution_count": 16,
   "metadata": {},
   "outputs": [],
   "source": [
    "def compute_cost(AL,Y):\n",
    "    m=Y.shape[1]\n",
    "    cost = -(1/m)*((np.dot(Y,(np.log(AL)).T))+(np.dot((1-Y),(np.log(1-AL)).T)))   \n",
    "    cost = np.squeeze(cost)\n",
    "    return cost\n",
    "    "
   ]
  },
  {
   "cell_type": "markdown",
   "metadata": {},
   "source": [
    "## Linear Activation Backward"
   ]
  },
  {
   "cell_type": "code",
   "execution_count": 17,
   "metadata": {},
   "outputs": [],
   "source": [
    "def linear_activation_backward(Y,AL,caches):\n",
    "    L=len(caches) \n",
    "    grads={}\n",
    "    ##last layer\n",
    "    m=Y.shape[1]\n",
    "    linear_cache,activation_cache=caches[L-1]\n",
    "    W,b,A_prev=linear_cache\n",
    "    dAL=-(np.divide(Y,AL)+np.divide((1-Y),(1-AL))) #dA\n",
    "    dZ=sigmoid_derivative(activation_cache,dAL) #activation_cache=z\n",
    "    dA_prev =np.dot(W.T,dZ)\n",
    "    dW =(1/m)* (np.dot(dZ,A_prev.T))\n",
    "    db =(1/m)*(np.sum(dZ,axis=1,keepdims=True))\n",
    "    grads[\"dA\" + str(L-1)], grads[\"dW\" + str(L)], grads[\"db\" + str(L)]=dA_prev,dW,db\n",
    "    ##remaining layers\n",
    "    for l in reversed(range(L-1)):\n",
    "        linear_cache,activation_cache=caches[l]\n",
    "        W,b,A_prev=linear_cache\n",
    "        dZ=relu_derivative(grads[\"dA\" + str(l+1)],activation_cache)\n",
    "        #dZ=sigmoid_derivative(grads[\"dA\" + str(l+1)],activation_cache)\n",
    "        dA_prev =np.dot(W.T,dZ)\n",
    "        dW =(1/m)* (np.dot(dZ,A_prev.T))\n",
    "        db =(1/m)*(np.sum(dZ,axis=1,keepdims=True))\n",
    "        grads[\"dA\" + str(l)], grads[\"dW\" + str(l+1)], grads[\"db\" + str(l+1)]= dA_prev,dW,db   \n",
    "    return grads             \n",
    "    "
   ]
  },
  {
   "cell_type": "markdown",
   "metadata": {},
   "source": [
    "## Parameter Updation"
   ]
  },
  {
   "cell_type": "code",
   "execution_count": 18,
   "metadata": {},
   "outputs": [],
   "source": [
    "def update_parameters(parameters,grads,learning_rate):\n",
    "    L=len(parameters)//2\n",
    "    for i in range(1,L):\n",
    "        parameters['W'+str(i)]=parameters['W'+str(i)]-learning_rate*grads['dW'+str(i)]\n",
    "        parameters['b'+str(i)]=parameters['b'+str(i)]-learning_rate*grads['db'+str(i)]\n",
    "    return parameters"
   ]
  },
  {
   "cell_type": "markdown",
   "metadata": {},
   "source": [
    "## Prediction"
   ]
  },
  {
   "cell_type": "code",
   "execution_count": 19,
   "metadata": {},
   "outputs": [],
   "source": [
    "def perdict(X,Y,parameters):\n",
    "    m=Y.shape[1]\n",
    "    predicted_val=np.zeros((1,m))\n",
    "    probas, caches = linear_activation_forward(X, parameters)\n",
    "    for i in range(0, probas.shape[1]):\n",
    "        if probas[0,i] > 0.5:\n",
    "            predicted_val[0,i] = 1\n",
    "        else:\n",
    "            predicted_val[0,i] = 0\n",
    "    \n",
    "    accuracy=(np.sum((predicted_val== Y)/m))*100\n",
    "        \n",
    "    return accuracy"
   ]
  },
  {
   "cell_type": "markdown",
   "metadata": {},
   "source": [
    "## Final DNN Model"
   ]
  },
  {
   "cell_type": "code",
   "execution_count": 20,
   "metadata": {},
   "outputs": [],
   "source": [
    "\n",
    "def DNN_Model(learning_rate,X,Y,num_of_iterations,n_layers, print_cost=True):\n",
    "    costs=[]\n",
    "    parameters=initialize_parameters(n_layers,learning_rate)\n",
    "    for i in range(num_of_iterations):\n",
    "        AL,caches=linear_activation_forward(X,parameters)\n",
    "        cost=compute_cost(AL,Y)\n",
    "        grads=linear_activation_backward(Y,AL,caches)\n",
    "        parameters=update_parameters(parameters,grads,learning_rate)\n",
    "        costs.append(cost)\n",
    "    if print_cost and i % 100 == 0:\n",
    "        print (\"Cost after iteration %i: %f\" %(i, cost))\n",
    "    if print_cost and i % 100 == 0:\n",
    "        costs.append(cost)\n",
    "    plt.plot(np.squeeze(costs))\n",
    "    plt.ylabel('cost')\n",
    "    plt.xlabel('iterations (per hundreds)')\n",
    "    plt.title(\"Learning rate =\" + str(learning_rate))\n",
    "    plt.show()\n",
    "    return parameters"
   ]
  },
  {
   "cell_type": "markdown",
   "metadata": {},
   "source": [
    "## Calling the model on X-ray Images"
   ]
  },
  {
   "cell_type": "code",
   "execution_count": 21,
   "metadata": {},
   "outputs": [
    {
     "data": {
      "image/png": "[encoded data removed]",
      "text/plain": [
       "<Figure size 432x288 with 1 Axes>"
      ]
     },
     "metadata": {
      "needs_background": "light"
     },
     "output_type": "display_data"
    }
   ],
   "source": [
    "learning_rate=0.09\n",
    "num_of_iterations=100\n",
    "##call model\n",
    "parameters=DNN_Model(learning_rate,train_set_x,train_set_y,num_of_iterations,n_layers,print_cost=True)"
   ]
  },
  {
   "cell_type": "markdown",
   "metadata": {},
   "source": [
    "## Checking Accuracy for Training Set"
   ]
  },
  {
   "cell_type": "code",
   "execution_count": 22,
   "metadata": {},
   "outputs": [
    {
     "name": "stdout",
     "output_type": "stream",
     "text": [
      "Training Set Accuracy= 65.44117647058825\n"
     ]
    }
   ],
   "source": [
    "accuracy_for_train_set=perdict(train_set_x,train_set_y,parameters)\n",
    "print(\"Training Set Accuracy= \"+str(accuracy_for_train_set))"
   ]
  },
  {
   "cell_type": "markdown",
   "metadata": {},
   "source": [
    "## Checking Accuracy for Test Set"
   ]
  },
  {
   "cell_type": "code",
   "execution_count": 23,
   "metadata": {},
   "outputs": [
    {
     "name": "stdout",
     "output_type": "stream",
     "text": [
      "Test Set Accuracy= 64.70588235294117\n"
     ]
    }
   ],
   "source": [
    "parameters=initialize_parameters(n_layers,learning_rate)\n",
    "accuracy_for_test_set=perdict(test_set_x,test_set_y,parameters)\n",
    "print(\"Test Set Accuracy= \"+str(accuracy_for_test_set))"
   ]
  },
  {
   "cell_type": "code",
   "execution_count": null,
   "metadata": {},
   "outputs": [],
   "source": []
  }
 ],
 "metadata": {
  "kernelspec": {
   "display_name": "Python 3",
   "language": "python",
   "name": "python3"
  },
  "language_info": {
   "codemirror_mode": {
    "name": "ipython",
    "version": 3
   },
   "file_extension": ".py",
   "mimetype": "text/x-python",
   "name": "python",
   "nbconvert_exporter": "python",
   "pygments_lexer": "ipython3",
   "version": "3.7.4"
  }
 },
 "nbformat": 4,
 "nbformat_minor": 2
}
