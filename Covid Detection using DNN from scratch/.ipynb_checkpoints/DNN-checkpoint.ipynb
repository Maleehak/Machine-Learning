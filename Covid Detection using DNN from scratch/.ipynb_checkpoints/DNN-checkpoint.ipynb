{
 "cells": [
  {
   "cell_type": "code",
   "execution_count": 3,
   "metadata": {},
   "outputs": [],
   "source": [
    "import numpy as np\n",
    "import matplotlib.pyplot as plt \n",
    "import cv2\n",
    "import math\n",
    "import pandas as pd\n",
    "from sklearn.utils import shuffle"
   ]
  },
  {
   "cell_type": "markdown",
   "metadata": {},
   "source": [
    "## Load Dataset"
   ]
  },
  {
   "cell_type": "code",
   "execution_count": 4,
   "metadata": {},
   "outputs": [],
   "source": [
    "train_images=pd.read_csv('dataset/traindata.csv') #read the csv file\n",
    "test_images=pd.read_csv('dataset/testdata.csv')\n",
    "train_images_shuffled=shuffle(train_images)\n",
    "test_images_shuffled=shuffle(test_images)"
   ]
  },
  {
   "cell_type": "code",
   "execution_count": 5,
   "metadata": {},
   "outputs": [],
   "source": [
    "def load_dataset():\n",
    "    #train_dataset\n",
    "\n",
    "    train_img_path=train_images_shuffled['Xray-img']\n",
    "    train_images_rgb=[]\n",
    "    for i in train_img_path:\n",
    "        img=cv2.imread(i)\n",
    "        train_images_rgb.append(img)\n",
    "    train_set_x_orig=np.asarray(train_images_rgb)\n",
    "    train_set_y_orig =np.array(train_images_shuffled[\"has-covid19\"][:])\n",
    "    train_set_y_orig =train_set_y_orig.reshape((1, train_set_y_orig.shape[0]))\n",
    "    train_classes=np.array(train_images_shuffled[\"classes\"][:])\n",
    "    classes=train_images_shuffled[\"classes\"][:]\n",
    "    \n",
    "    #test_dataset\n",
    "    test_img_path=test_images_shuffled['Xray-img']\n",
    "    test_images_rgb=[]\n",
    "    for i in test_img_path:\n",
    "        img=cv2.imread(i)\n",
    "        test_images_rgb.append(img)\n",
    "    test_set_x_orig=np.asarray(test_images_rgb)\n",
    "   \n",
    "    test_set_y_orig =np.array(test_images_shuffled[\"has-covid19\"][:])\n",
    "    test_set_y_orig =test_set_y_orig.reshape((1, test_set_y_orig.shape[0]))\n",
    "    test_classes=np.array(test_images_shuffled[\"classes\"][:])\n",
    "    return train_set_x_orig, train_set_y_orig,test_set_x_orig, test_set_y_orig,train_classes,test_classes\n"
   ]
  },
  {
   "cell_type": "code",
   "execution_count": 6,
   "metadata": {},
   "outputs": [],
   "source": [
    "train_set_x_orig, train_set_y_orig, test_set_x_orig, test_set_y_orig,train_classes,test_classes=load_dataset()"
   ]
  },
  {
   "cell_type": "markdown",
   "metadata": {},
   "source": [
    "## Reshape train and test data"
   ]
  },
  {
   "cell_type": "code",
   "execution_count": 7,
   "metadata": {},
   "outputs": [],
   "source": [
    "train_set_x_orig =train_set_x_orig.reshape(train_set_x_orig.shape[0], -1).T\n",
    "test_set_x_orig =test_set_x_orig.reshape(test_set_x_orig.shape[0], -1).T"
   ]
  },
  {
   "cell_type": "markdown",
   "metadata": {},
   "source": [
    "## Standardize data"
   ]
  },
  {
   "cell_type": "code",
   "execution_count": 8,
   "metadata": {},
   "outputs": [
    {
     "data": {
      "text/plain": [
       "(12288, 136)"
      ]
     },
     "execution_count": 8,
     "metadata": {},
     "output_type": "execute_result"
    }
   ],
   "source": [
    "train_set_x = train_set_x_orig/255.\n",
    "test_set_x = test_set_x_orig/255.\n",
    "train_set_x.shape"
   ]
  },
  {
   "cell_type": "markdown",
   "metadata": {},
   "source": [
    "## Helper Fucntions"
   ]
  },
  {
   "cell_type": "code",
   "execution_count": 9,
   "metadata": {},
   "outputs": [],
   "source": [
    "def sigmoid(z):\n",
    "    s =1/(1+np.exp(-z))\n",
    "    return s"
   ]
  },
  {
   "cell_type": "code",
   "execution_count": 10,
   "metadata": {},
   "outputs": [],
   "source": [
    "def relu(Z):\n",
    "    relu=np.maximum(0,Z)\n",
    "    return relu"
   ]
  },
  {
   "cell_type": "code",
   "execution_count": 11,
   "metadata": {},
   "outputs": [],
   "source": [
    "def getShape(X):\n",
    "    return X.shape[0]"
   ]
  },
  {
   "cell_type": "markdown",
   "metadata": {},
   "source": [
    "## Define Model Size"
   ]
  },
  {
   "cell_type": "code",
   "execution_count": 12,
   "metadata": {},
   "outputs": [],
   "source": [
    "zero_layer=getShape(train_set_x_orig)\n",
    "n_layers=[zero_layer,3,2,3,1]"
   ]
  },
  {
   "cell_type": "markdown",
   "metadata": {},
   "source": [
    "## Initialize Parameters"
   ]
  },
  {
   "cell_type": "code",
   "execution_count": 13,
   "metadata": {},
   "outputs": [],
   "source": [
    "def initialize_parameters(n_layers):\n",
    "    np.random.seed(1)\n",
    "    parameters={}\n",
    "    L=len(n_layers)\n",
    "    for i in range(1,L):\n",
    "        parameters['W'+str(i)]=np.random.randn(n_layers[i-1],n_layers[i]);\n",
    "        parameters['b'+str(i)]=np.zeros([n_layers[i],1]);    \n",
    "    return parameters"
   ]
  },
  {
   "cell_type": "code",
   "execution_count": 14,
   "metadata": {},
   "outputs": [],
   "source": [
    "parameters=initialize_parameters(n_layers)"
   ]
  },
  {
   "cell_type": "markdown",
   "metadata": {},
   "source": [
    "## Linear Activation Forward"
   ]
  },
  {
   "cell_type": "code",
   "execution_count": 15,
   "metadata": {},
   "outputs": [],
   "source": [
    "def linear_activation_forward(X,parameters):\n",
    "    L=len(parameters)//2\n",
    "    A=X\n",
    "    AL=[]\n",
    "    for i in range(1,L): #for n-1 layers\n",
    "        W=parameters[\"W\"+str(i)]\n",
    "        b=parameters[\"b\"+str(i)]\n",
    "        A_prev=A\n",
    "        Z=np.dot(W.T,A)+b\n",
    "        A=relu(Z)\n",
    "    #for nth layer\n",
    "    W=parameters[\"W\"+str(L)]\n",
    "    b=parameters[\"b\"+str(L)]\n",
    "    Z=np.dot(W.T,A)+b\n",
    "    AL=sigmoid(Z)        #only for last layer\n",
    "    return AL\n",
    "    "
   ]
  },
  {
   "cell_type": "code",
   "execution_count": 16,
   "metadata": {
    "scrolled": true
   },
   "outputs": [],
   "source": [
    "AL=linear_activation_forward(train_set_x,parameters)"
   ]
  },
  {
   "cell_type": "markdown",
   "metadata": {},
   "source": [
    "## Cost Function"
   ]
  },
  {
   "cell_type": "code",
   "execution_count": 17,
   "metadata": {},
   "outputs": [],
   "source": [
    "def compute_cost(AL,Y):\n",
    "    m=Y.shape[1]\n",
    "    cost = -(1/m)*((np.dot(Y,(np.log(AL)).T))+(np.dot((1-Y),(np.log(1-AL)).T)))   \n",
    "    cost = np.squeeze(cost)\n",
    "    return cost\n",
    "    "
   ]
  },
  {
   "cell_type": "code",
   "execution_count": 18,
   "metadata": {},
   "outputs": [],
   "source": [
    "cost=compute_cost(AL,train_set_y_orig)"
   ]
  },
  {
   "cell_type": "code",
   "execution_count": 19,
   "metadata": {},
   "outputs": [
    {
     "data": {
      "text/plain": [
       "(1, 136)"
      ]
     },
     "execution_count": 19,
     "metadata": {},
     "output_type": "execute_result"
    }
   ],
   "source": [
    "train_set_y_orig.shape"
   ]
  },
  {
   "cell_type": "code",
   "execution_count": 23,
   "metadata": {},
   "outputs": [],
   "source": [
    " dAL=-(np.divide(train_set_y_orig,AL)+np.divide((1-train_set_y_orig),(1-AL)))"
   ]
  },
  {
   "cell_type": "markdown",
   "metadata": {},
   "source": [
    "## Linear Activation Backward"
   ]
  },
  {
   "cell_type": "code",
   "execution_count": 25,
   "metadata": {},
   "outputs": [
    {
     "data": {
      "text/plain": [
       "(1, 136)"
      ]
     },
     "execution_count": 25,
     "metadata": {},
     "output_type": "execute_result"
    }
   ],
   "source": [
    "dAL.shape"
   ]
  },
  {
   "cell_type": "code",
   "execution_count": null,
   "metadata": {},
   "outputs": [],
   "source": [
    "def linear_backward(Y,AL):\n",
    "    dAL=-(np.divide(Y,AL)+np.divide((1-Y),(1-AL)))\n",
    "    \n",
    "          \n",
    "          \n",
    "    "
   ]
  }
 ],
 "metadata": {
  "kernelspec": {
   "display_name": "Python 3",
   "language": "python",
   "name": "python3"
  },
  "language_info": {
   "codemirror_mode": {
    "name": "ipython",
    "version": 3
   },
   "file_extension": ".py",
   "mimetype": "text/x-python",
   "name": "python",
   "nbconvert_exporter": "python",
   "pygments_lexer": "ipython3",
   "version": "3.7.4"
  }
 },
 "nbformat": 4,
 "nbformat_minor": 2
}
