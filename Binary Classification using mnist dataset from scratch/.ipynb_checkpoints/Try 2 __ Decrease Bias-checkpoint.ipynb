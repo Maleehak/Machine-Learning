{
 "cells": [
  {
   "cell_type": "code",
   "execution_count": null,
   "metadata": {},
   "outputs": [],
   "source": [
    "from mnist.loader import MNIST\n",
    "import numpy as np\n",
    "from pylab import *"
   ]
  },
  {
   "cell_type": "code",
   "execution_count": null,
   "metadata": {},
   "outputs": [],
   "source": [
    "def load_mnist_data():\n",
    "    mnist=MNIST('dataset')\n",
    "    ##train data\n",
    "    train_images,train_labels=mnist.load_training()\n",
    "    train_images=np.asarray(train_images)\n",
    "    train_labels=np.asarray(train_labels)\n",
    "    train_labels=train_labels.reshape([train_labels.shape[0],1])\n",
    "    print(mnist.display(train_images[5]))\n",
    "    ##test data\n",
    "    test_images,test_labels=mnist.load_testing()\n",
    "    test_images=np.asarray(test_images)\n",
    "    test_labels=np.asarray(test_labels)\n",
    "    test_labels=test_labels.reshape([test_labels.shape[0],1])\n",
    "    return train_images,train_labels,test_images,test_labels\n"
   ]
  },
  {
   "cell_type": "code",
   "execution_count": null,
   "metadata": {},
   "outputs": [],
   "source": [
    "def extract_digits(digits,train,test):\n",
    "    digit1=digits[0]\n",
    "    digit2=digits[1]\n",
    "    #train\n",
    "    train_images=train[0]\n",
    "    train_labels=train[1]\n",
    "    train_filter = np.where((train_labels == digit1 ) | (train_labels == digit2))\n",
    "    X_train, Y_train = train_images[train_filter[0],:], train_labels[train_filter]\n",
    "    Y_train=Y_train.reshape([Y_train.shape[0],1])\n",
    "    Y_tr=np.where(Y_train==6,0,1)\n",
    "    \n",
    "    #test\n",
    "    test_images=test[0]\n",
    "    test_labels=test[1]\n",
    "    test_filter = np.where((test_labels == digit1) | (test_labels == digit2))\n",
    "    X_test, Y_test = test_images[test_filter[0],:], test_labels[test_filter]\n",
    "    Y_test=Y_test.reshape([Y_test.shape[0],1])\n",
    "    Y_t=np.where(Y_test==6,0,1)\n",
    "    \n",
    "    train_data=[X_train,Y_tr]\n",
    "    test_data=[X_test,Y_t]\n",
    "    \n",
    "    \n",
    "    return train_data, test_data\n",
    "    "
   ]
  },
  {
   "cell_type": "code",
   "execution_count": null,
   "metadata": {},
   "outputs": [],
   "source": [
    "def max_normalization(X_train,X_test):\n",
    "    X_train=X_train/255\n",
    "    X_test=X_test/255\n",
    "    return X_train,X_test"
   ]
  },
  {
   "cell_type": "code",
   "execution_count": null,
   "metadata": {},
   "outputs": [],
   "source": [
    "def initialize_parameters(n):\n",
    "    #theta=np.random.randint(-1,2,size=[n,1])\n",
    "    W=np.zeros([n,1])\n",
    "    b=0\n",
    "    return W,b"
   ]
  },
  {
   "cell_type": "code",
   "execution_count": null,
   "metadata": {},
   "outputs": [],
   "source": [
    "def sigmoid(z):\n",
    "    hx=1/(np.exp(-z))\n",
    "    return hx"
   ]
  },
  {
   "cell_type": "code",
   "execution_count": null,
   "metadata": {},
   "outputs": [],
   "source": [
    "def cost(hx,X,y):\n",
    "    m=y.shape[1]\n",
    "    cost=-((1/m)*np.sum((y*np.log(hx)+(1-y)*(np.log(1-y))))) \n",
    "    return cost\n",
    "    "
   ]
  },
  {
   "cell_type": "code",
   "execution_count": null,
   "metadata": {},
   "outputs": [],
   "source": [
    "def derivative_of_cost(X,hx,y):\n",
    "    m=y.shape[1]\n",
    "    d_W=(1/m)*(np.sum(X*(hx-y),axis=1,keepdims=True))\n",
    "    d_b=(1/m)*\n",
    "    return d_theeta"
   ]
  },
  {
   "cell_type": "code",
   "execution_count": null,
   "metadata": {},
   "outputs": [],
   "source": [
    "def predict(theta, X):\n",
    "    m = X.shape[1]\n",
    "    Y_prediction = np.zeros((1,m))\n",
    "    z=np.dot(theta.T,X)\n",
    "    A =sigmoid(z)\n",
    "    for i in range(A.shape[1]):\n",
    "        Y_prediction[0,i]=np.where(A[0,i]>=0.5,1,0)        \n",
    "    \n",
    "    return Y_prediction"
   ]
  },
  {
   "cell_type": "code",
   "execution_count": null,
   "metadata": {},
   "outputs": [],
   "source": [
    "def model(alpha,X,Y,num_of_iterations):\n",
    "    m=Y.shape[1]\n",
    "    costs=[]\n",
    "    theta=initialize_parameters(X.shape[0])\n",
    "    prev_weights=np.copy(theta)\n",
    "    for i in range(num_of_iterations):\n",
    "        z=np.dot(theta.T,X)\n",
    "        hx=sigmoid(z)\n",
    "        J=cost(hx,X,Y)\n",
    "        der=derivative_of_cost(X,hx,Y)\n",
    "        theta=theta-(alpha)*(der)\n",
    "        if i % 100 == 0:\n",
    "            costs.append(J)\n",
    "    Y_prediction_test =predict(theta, X_test)\n",
    "    Y_prediction_train = predict(theta, X_train)\n",
    "    \n",
    "    print(\"train accuracy: {} %\".format(100 - np.mean(np.abs(Y_prediction_train - Y_train)) * 100))\n",
    "    print(\"test accuracy: {} %\".format(100 - np.mean(np.abs(Y_prediction_test - Y_test)) * 100))\n",
    "    \n",
    "    return costs\n",
    "    "
   ]
  },
  {
   "cell_type": "code",
   "execution_count": null,
   "metadata": {},
   "outputs": [],
   "source": [
    "#load data\n",
    "train_images,train_labels,test_images,test_labels=load_mnist_data()\n",
    "train=[train_images,train_labels]\n",
    "test=[test_images,test_labels]\n",
    "digits=[6,9]"
   ]
  },
  {
   "cell_type": "code",
   "execution_count": null,
   "metadata": {},
   "outputs": [],
   "source": [
    "#extraction\n",
    "train,test=extract_digits(digits,train,test)\n",
    "X_train=train[0]\n",
    "Y_train=train[1]\n",
    "X_test=test[0]\n",
    "Y_test=test[1]"
   ]
  },
  {
   "cell_type": "code",
   "execution_count": null,
   "metadata": {},
   "outputs": [],
   "source": [
    "# view data\n",
    "print(Y_train[2])\n",
    "imshow(X_train[2].reshape(28,28))"
   ]
  },
  {
   "cell_type": "code",
   "execution_count": null,
   "metadata": {},
   "outputs": [],
   "source": [
    "# normalization\n",
    "X_train,X_test=max_normalization(X_train,X_test)"
   ]
  },
  {
   "cell_type": "code",
   "execution_count": null,
   "metadata": {},
   "outputs": [],
   "source": [
    "#append X_train\n",
    "X_train=X_train.T #(n,m)\n",
    "Y_train=Y_train.T #(1,m)"
   ]
  },
  {
   "cell_type": "code",
   "execution_count": null,
   "metadata": {},
   "outputs": [],
   "source": [
    "#append test\n",
    "X_test=X_test.T #(n,m)\n",
    "Y_test=Y_test.T #(1,m)"
   ]
  },
  {
   "cell_type": "code",
   "execution_count": null,
   "metadata": {},
   "outputs": [],
   "source": [
    "costs=model(0.5,X_train,Y_train,num_of_iterations=500)"
   ]
  }
 ],
 "metadata": {
  "kernelspec": {
   "display_name": "Python 3",
   "language": "python",
   "name": "python3"
  },
  "language_info": {
   "codemirror_mode": {
    "name": "ipython",
    "version": 3
   },
   "file_extension": ".py",
   "mimetype": "text/x-python",
   "name": "python",
   "nbconvert_exporter": "python",
   "pygments_lexer": "ipython3",
   "version": "3.7.4"
  }
 },
 "nbformat": 4,
 "nbformat_minor": 2
}
