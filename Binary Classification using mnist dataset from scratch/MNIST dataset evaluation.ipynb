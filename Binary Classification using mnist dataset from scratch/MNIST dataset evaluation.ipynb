{
 "cells": [
  {
   "cell_type": "code",
   "execution_count": 1,
   "metadata": {},
   "outputs": [],
   "source": [
    "from mnist.loader import MNIST\n",
    "import numpy as np\n",
    "from pylab import *"
   ]
  },
  {
   "cell_type": "code",
   "execution_count": 2,
   "metadata": {},
   "outputs": [],
   "source": [
    "def load_mnist_data():\n",
    "    mnist=MNIST('dataset')\n",
    "    ##train data\n",
    "    train_images,train_labels=mnist.load_training()\n",
    "    train_images=np.asarray(train_images)\n",
    "    train_labels=np.asarray(train_labels)\n",
    "    train_labels=train_labels.reshape([train_labels.shape[0],1])\n",
    "    #print(mnist.display(train_images[5]))\n",
    "    ##test data\n",
    "    test_images,test_labels=mnist.load_testing()\n",
    "    test_images=np.asarray(test_images)\n",
    "    test_labels=np.asarray(test_labels)\n",
    "    test_labels=test_labels.reshape([test_labels.shape[0],1])\n",
    "    return train_images,train_labels,test_images,test_labels\n"
   ]
  },
  {
   "cell_type": "code",
   "execution_count": 3,
   "metadata": {},
   "outputs": [],
   "source": [
    "def extract_digits(digits,train,test):\n",
    "    digit1=digits[0]\n",
    "    digit2=digits[1]\n",
    "    #train\n",
    "    train_images=train[0]\n",
    "    train_labels=train[1]\n",
    "    train_filter = np.where((train_labels == digit1 ) | (train_labels == digit2))\n",
    "    X_train, Y_train = train_images[train_filter[0],:], train_labels[train_filter]\n",
    "    Y_train=Y_train.reshape([Y_train.shape[0],1])\n",
    "    Y_tr=np.where(Y_train==6,0,1)\n",
    "    \n",
    "    #test\n",
    "    test_images=test[0]\n",
    "    test_labels=test[1]\n",
    "    test_filter = np.where((test_labels == digit1) | (test_labels == digit2))\n",
    "    X_test, Y_test = test_images[test_filter[0],:], test_labels[test_filter]\n",
    "    Y_test=Y_test.reshape([Y_test.shape[0],1])\n",
    "    Y_t=np.where(Y_test==6,0,1)\n",
    "    \n",
    "    train_data=[X_train,Y_tr]\n",
    "    test_data=[X_test,Y_t]\n",
    "    \n",
    "    \n",
    "    return train_data, test_data\n",
    "    \n",
    "    \n",
    "    "
   ]
  },
  {
   "cell_type": "code",
   "execution_count": 4,
   "metadata": {},
   "outputs": [],
   "source": [
    "def max_normalization(X_train,X_test):\n",
    "    X_train=X_train/255\n",
    "    X_test=X_test/255\n",
    "    return X_train,X_test"
   ]
  },
  {
   "cell_type": "code",
   "execution_count": 5,
   "metadata": {},
   "outputs": [],
   "source": [
    "def initialize_parameters(n):\n",
    "    #theta=np.random.randint(-1,2,size=[n,1])\n",
    "    theta=np.zeros([n,1])\n",
    "    return theta"
   ]
  },
  {
   "cell_type": "code",
   "execution_count": 6,
   "metadata": {},
   "outputs": [],
   "source": [
    "def sigmoid(z):\n",
    "    hx=1/(1+(np.exp(-z)))\n",
    "    return hx"
   ]
  },
  {
   "cell_type": "code",
   "execution_count": 7,
   "metadata": {},
   "outputs": [],
   "source": [
    "def cost(hx,X,y):\n",
    "    m=y.shape[1]\n",
    "    cost=-((1/m)*np.sum((y*np.log(hx)+(1-y)*(np.log(1-hx))))) \n",
    "    return cost\n",
    "    "
   ]
  },
  {
   "cell_type": "code",
   "execution_count": 8,
   "metadata": {},
   "outputs": [],
   "source": [
    "def derivative_of_cost(X,hx,y):\n",
    "    m=y.shape[1]\n",
    "    d_theeta=(1/m)*(np.sum(X*(hx-y),axis=1,keepdims=True))\n",
    "    return d_theeta"
   ]
  },
  {
   "cell_type": "code",
   "execution_count": 9,
   "metadata": {},
   "outputs": [],
   "source": [
    "def predict(theta, X):\n",
    "    m = X.shape[1]\n",
    "    Y_prediction = np.zeros((1,m))\n",
    "    z=np.dot(theta.T,X)\n",
    "    A =sigmoid(z)\n",
    "    for i in range(A.shape[1]):\n",
    "        Y_prediction[0,i]=np.where(A[0,i]>=0.5,1,0)        \n",
    "    \n",
    "    return Y_prediction\n"
   ]
  },
  {
   "cell_type": "code",
   "execution_count": 21,
   "metadata": {},
   "outputs": [],
   "source": [
    "def confusion_matrix(Y_prediction,Y):\n",
    "    ##compressed the 4 lines\n",
    "    #condition_1 = (Y_prediction_test == 1)\n",
    "    #condition_2 = (Y_test == 1)\n",
    "    #part1 = np.where(condition_1 & condition_2)\n",
    "    #result = len(part1[1])\n",
    "    TP=len((np.where((Y_prediction == 1) & (Y == 1)))[1])\n",
    "    TN=len((np.where((Y_prediction == 0) & (Y == 0)))[1])\n",
    "    FP=len((np.where((Y_prediction == 1) & (Y == 0)))[1])\n",
    "    FN=len((np.where((Y_prediction == 0) & (Y == 1)))[1])\n",
    "    \n",
    "    accuracy=(TP+TN)/(TP+TN+FP+FN)\n",
    "    recall=(TP)/(TP+FN)\n",
    "    precision=(TP)/(TP+FP)\n",
    "    return accuracy,recall,precision"
   ]
  },
  {
   "cell_type": "code",
   "execution_count": 11,
   "metadata": {},
   "outputs": [],
   "source": [
    "def model(alpha,X,Y,num_of_iterations):\n",
    "    m=Y.shape[1]\n",
    "    costs=[]\n",
    "    theta=initialize_parameters(X.shape[0])\n",
    "    prev_weights=np.copy(theta)\n",
    "    for i in range(num_of_iterations):\n",
    "        z=np.dot(theta.T,X)\n",
    "        hx=sigmoid(z)\n",
    "        J=cost(hx,X,Y)\n",
    "        der=derivative_of_cost(X,hx,Y)\n",
    "        theta=theta-(alpha)*(der)\n",
    "        if i % 50 == 0:\n",
    "            costs.append(J)\n",
    "            print(\"cost after \"+str(i)+\" iterations\"+str(J))\n",
    "    Y_prediction_test =predict(theta, X_test)\n",
    "    Y_prediction_train = predict(theta, X_train)\n",
    "    \n",
    "    train_accuracy,train_recall,train_precision=confusion_matrix(Y_prediction_train,Y_train)\n",
    "    test_accuracy,test_recall,test_precision=confusion_matrix(Y_prediction_test,Y_test)\n",
    "    \n",
    "    print(\"Train dataset:\")\n",
    "    print(\"Accuracy :\"+str(train_accuracy))\n",
    "    print(\"Recall :\"+str(train_recall))\n",
    "    print(\"Precision :\"+str(train_precision))\n",
    "    \n",
    "    print(\"Test dataset:\")\n",
    "    print(\"Accuracy :\"+str(test_accuracy))\n",
    "    print(\"Recall :\"+str(test_recall))\n",
    "    print(\"Precision :\"+str(test_precision))\n",
    "    \n",
    "    return costs\n",
    "    \n",
    "    "
   ]
  },
  {
   "cell_type": "code",
   "execution_count": 12,
   "metadata": {},
   "outputs": [],
   "source": [
    "#load data\n",
    "train_images,train_labels,test_images,test_labels=load_mnist_data()\n",
    "train=[train_images,train_labels]\n",
    "test=[test_images,test_labels]\n",
    "digits=[6,9]\n"
   ]
  },
  {
   "cell_type": "code",
   "execution_count": 13,
   "metadata": {},
   "outputs": [],
   "source": [
    "#extraction\n",
    "train,test=extract_digits(digits,train,test)\n",
    "X_train=train[0]\n",
    "Y_train=train[1]\n",
    "X_test=test[0]\n",
    "Y_test=test[1]\n"
   ]
  },
  {
   "cell_type": "code",
   "execution_count": null,
   "metadata": {},
   "outputs": [],
   "source": []
  },
  {
   "cell_type": "code",
   "execution_count": 14,
   "metadata": {},
   "outputs": [
    {
     "name": "stdout",
     "output_type": "stream",
     "text": [
      "[0]\n"
     ]
    },
    {
     "data": {
      "text/plain": [
       "<matplotlib.image.AxesImage at 0x265286e6c48>"
      ]
     },
     "execution_count": 14,
     "metadata": {},
     "output_type": "execute_result"
    },
    {
     "data": {
      "image/png": "[encoded data removed]",
      "text/plain": [
       "<Figure size 432x288 with 1 Axes>"
      ]
     },
     "metadata": {
      "needs_background": "light"
     },
     "output_type": "display_data"
    }
   ],
   "source": [
    "# view data\n",
    "print(Y_train[2])\n",
    "imshow(X_train[2].reshape(28,28))"
   ]
  },
  {
   "cell_type": "code",
   "execution_count": 15,
   "metadata": {},
   "outputs": [],
   "source": [
    "# normalization\n",
    "X_train,X_test=max_normalization(X_train,X_test)"
   ]
  },
  {
   "cell_type": "code",
   "execution_count": 16,
   "metadata": {},
   "outputs": [],
   "source": [
    "#append X_train\n",
    "X=np.ones([X_train.shape[0],1]) \n",
    "X_train=np.append(X,X_train,axis=1) #(m,n)\n",
    "X_train=X_train.T #(n,m)\n",
    "Y_train=Y_train.T #(1,m)"
   ]
  },
  {
   "cell_type": "code",
   "execution_count": 17,
   "metadata": {},
   "outputs": [],
   "source": [
    "#append test\n",
    "X=np.ones([X_test.shape[0],1]) \n",
    "X_test=np.append(X,X_test,axis=1) #(m,n)\n",
    "X_test=X_test.T #(n,m)\n",
    "Y_test=Y_test.T #(1,m)"
   ]
  },
  {
   "cell_type": "code",
   "execution_count": 18,
   "metadata": {},
   "outputs": [
    {
     "data": {
      "text/plain": [
       "(785, 11867)"
      ]
     },
     "execution_count": 18,
     "metadata": {},
     "output_type": "execute_result"
    }
   ],
   "source": [
    "X_train.shape"
   ]
  },
  {
   "cell_type": "code",
   "execution_count": 19,
   "metadata": {},
   "outputs": [
    {
     "data": {
      "text/plain": [
       "(785, 1967)"
      ]
     },
     "execution_count": 19,
     "metadata": {},
     "output_type": "execute_result"
    }
   ],
   "source": [
    "X_test.shape"
   ]
  },
  {
   "cell_type": "code",
   "execution_count": 22,
   "metadata": {},
   "outputs": [
    {
     "name": "stdout",
     "output_type": "stream",
     "text": [
      "cost after 0 iterations0.6931471805599453\n",
      "cost after 50 iterations0.0710498219713004\n",
      "cost after 100 iterations0.04544607936010418\n",
      "cost after 150 iterations0.035610072155499495\n",
      "cost after 200 iterations0.030226503382465342\n",
      "cost after 250 iterations0.026763796371254756\n",
      "cost after 300 iterations0.02431785229687704\n",
      "cost after 350 iterations0.022480630572009087\n",
      "cost after 400 iterations0.021039335680845372\n",
      "cost after 450 iterations0.01987142891127287\n",
      "Train dataset:\n",
      "Accuracy :0.9971349119406758\n",
      "Recall :0.9964699949571356\n",
      "Precision :0.9978118161925602\n",
      "Test dataset:\n",
      "Accuracy :0.9969496695475343\n",
      "Recall :0.998017839444995\n",
      "Precision :0.9960435212660732\n"
     ]
    }
   ],
   "source": [
    "costs=model(0.1,X_train,Y_train,num_of_iterations=500)"
   ]
  },
  {
   "cell_type": "code",
   "execution_count": 23,
   "metadata": {},
   "outputs": [
    {
     "data": {
      "text/plain": [
       "[<matplotlib.lines.Line2D at 0x2652d74fa08>]"
      ]
     },
     "execution_count": 23,
     "metadata": {},
     "output_type": "execute_result"
    },
    {
     "data": {
      "image/png": "[encoded data removed]",
      "text/plain": [
       "<Figure size 432x288 with 1 Axes>"
      ]
     },
     "metadata": {
      "needs_background": "light"
     },
     "output_type": "display_data"
    }
   ],
   "source": [
    "plot(costs)"
   ]
  },
  {
   "cell_type": "code",
   "execution_count": null,
   "metadata": {},
   "outputs": [],
   "source": []
  }
 ],
 "metadata": {
  "kernelspec": {
   "display_name": "Python 3",
   "language": "python",
   "name": "python3"
  },
  "language_info": {
   "codemirror_mode": {
    "name": "ipython",
    "version": 3
   },
   "file_extension": ".py",
   "mimetype": "text/x-python",
   "name": "python",
   "nbconvert_exporter": "python",
   "pygments_lexer": "ipython3",
   "version": "3.7.4"
  }
 },
 "nbformat": 4,
 "nbformat_minor": 2
}
