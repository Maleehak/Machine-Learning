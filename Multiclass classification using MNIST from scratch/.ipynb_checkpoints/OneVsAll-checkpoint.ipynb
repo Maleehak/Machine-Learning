{
 "cells": [
  {
   "cell_type": "code",
   "execution_count": 1,
   "metadata": {},
   "outputs": [],
   "source": [
    "from mnist.loader import MNIST\n",
    "import numpy as np\n",
    "from pylab import *"
   ]
  },
  {
   "cell_type": "code",
   "execution_count": 2,
   "metadata": {},
   "outputs": [],
   "source": [
    "def load_mnist_data():\n",
    "    mnist=MNIST('dataset')\n",
    "    ##train data\n",
    "    train_images,train_labels=mnist.load_training()\n",
    "    train_images=np.asarray(train_images)\n",
    "    train_labels=np.asarray(train_labels)\n",
    "    train_labels=train_labels.reshape([train_labels.shape[0],1])\n",
    "    #print(mnist.display(train_images[5]))\n",
    "    ##test data\n",
    "    test_images,test_labels=mnist.load_testing()\n",
    "    test_images=np.asarray(test_images)\n",
    "    test_labels=np.asarray(test_labels)\n",
    "    test_labels=test_labels.reshape([test_labels.shape[0],1])\n",
    "    return train_images,train_labels,test_images,test_labels"
   ]
  },
  {
   "cell_type": "code",
   "execution_count": 3,
   "metadata": {},
   "outputs": [],
   "source": [
    "def one_vs_all(digit,Y_train,Y_test):\n",
    "    #train\n",
    "    Y_tr=np.where(Y_train==digit,1,0)\n",
    "    \n",
    "    #test\n",
    "    Y_t=np.where(Y_test==digit,1,0)\n",
    "    return Y_tr,Y_t\n",
    "    "
   ]
  },
  {
   "cell_type": "code",
   "execution_count": 4,
   "metadata": {},
   "outputs": [],
   "source": [
    "def max_normalization(X_train,X_test):\n",
    "    X_train=X_train/255\n",
    "    X_test=X_test/255\n",
    "    return X_train,X_test"
   ]
  },
  {
   "cell_type": "code",
   "execution_count": 5,
   "metadata": {},
   "outputs": [],
   "source": [
    "def initialize_parameters(n):\n",
    "    #theta=np.random.randint(-1,2,size=[n,1])\n",
    "    theta=np.zeros([n,1])\n",
    "    return theta"
   ]
  },
  {
   "cell_type": "code",
   "execution_count": 6,
   "metadata": {},
   "outputs": [],
   "source": [
    "def sigmoid(z):\n",
    "    hx=1/(1+(np.exp(-z)))\n",
    "    return hx"
   ]
  },
  {
   "cell_type": "code",
   "execution_count": 7,
   "metadata": {},
   "outputs": [],
   "source": [
    "def cost(hx,X,y):\n",
    "    m=y.shape[1]\n",
    "    cost=-((1/m)*np.sum((y*np.log(hx)+(1-y)*(np.log(1-hx))))) \n",
    "    return cost\n",
    "    "
   ]
  },
  {
   "cell_type": "code",
   "execution_count": 8,
   "metadata": {},
   "outputs": [],
   "source": [
    "def derivative_of_cost(X,hx,y):\n",
    "    m=y.shape[1]\n",
    "    d_theeta=(1/m)*(np.sum(X*(hx-y),axis=1,keepdims=True))\n",
    "    return d_theeta"
   ]
  },
  {
   "cell_type": "code",
   "execution_count": 9,
   "metadata": {},
   "outputs": [],
   "source": [
    "def hypothesis(theta, X):\n",
    "    z=np.dot(theta.T,X)\n",
    "    hx =sigmoid(z)     \n",
    "    return hx\n"
   ]
  },
  {
   "cell_type": "code",
   "execution_count": 10,
   "metadata": {},
   "outputs": [],
   "source": [
    "def predict(hx):\n",
    "    m = hx.shape[1]\n",
    "    Y_prediction=hx.argmax(axis=1)\n",
    "    return Y_prediction"
   ]
  },
  {
   "cell_type": "code",
   "execution_count": 11,
   "metadata": {},
   "outputs": [],
   "source": [
    "def confusion_matrix(Y_actual, Y_predicted):\n",
    "    classes= np.unique(np.concatenate((Y_actual,Y_predicted)))\n",
    "    confusion_mtx = np.empty((len(classes),len(classes)),dtype=np.int)\n",
    "    for i,a in enumerate(classes):\n",
    "        for j,p in enumerate(classes):\n",
    "            confusion_mtx[i,j] = np.where((Y_actual==a)*(Y_predicted==p))[0].shape[0]\n",
    "    return confusion_mtx"
   ]
  },
  {
   "cell_type": "code",
   "execution_count": 12,
   "metadata": {},
   "outputs": [],
   "source": [
    "def model(alpha,X_train,Y_train,X_test,Y_test,num_of_iterations):\n",
    "    m=Y_train.shape[1]\n",
    "    all_hx_train_list=[]\n",
    "    all_hx_test_list=[]\n",
    "    print(X_train.shape)\n",
    "    print(Y_train.shape)\n",
    "    for i in range(0,10):\n",
    "        digit=i\n",
    "        Y_train,Y_test=one_vs_all(digit,Y_train,Y_test)\n",
    "        print (\"For \" +str(i))\n",
    "        hypothesis_train,hypothesis_test=binary_classification(alpha,X_train,Y_train,X_test,Y_test,num_of_iterations)\n",
    "        all_hx_train_list.append(hypothesis_train)\n",
    "        all_hx_test_list.append(hypothesis_test)\n",
    "        \n",
    "    #train\n",
    "    all_hx_train=np.array( all_hx_train_list)    \n",
    "    all_hx_train=all_hx_train.reshape(all_hx_train.shape[2],all_hx_train.shape[0])\n",
    "    Y_predicted_train=predict(all_hx_train)\n",
    "    Y_predicted_train=Y_predicted_train.reshape(1,Y_predicted_train.shape[0])\n",
    "    #test\n",
    "    all_hx_test=np.array( all_hx_test_list)    \n",
    "    all_hx_test=all_hx_test.reshape(all_hx_test.shape[2],all_hx_test.shape[0])\n",
    "    Y_predicted_test=predict(all_hx_test)\n",
    "    Y_predicted_test=Y_predicted_test.reshape(1,Y_predicted_test.shape[0])\n",
    "    \n",
    "    return all_hx_train,Y_predicted_train,Y_predicted_test"
   ]
  },
  {
   "cell_type": "code",
   "execution_count": 13,
   "metadata": {},
   "outputs": [],
   "source": [
    "def binary_classification(alpha,X_train,Y_train,X_test,Y_test,num_of_iterations):\n",
    "    costs=[]\n",
    "    theta=initialize_parameters(X_train.shape[0])\n",
    "    prev_weights=np.copy(theta)\n",
    "    for i in range(num_of_iterations):\n",
    "        z=np.dot(theta.T,X_train)\n",
    "        hx=sigmoid(z)\n",
    "        J=cost(hx,X_train,Y_train)\n",
    "        der=derivative_of_cost(X_train,hx,Y_train)\n",
    "        theta=theta-(alpha)*(der)\n",
    "        if i % 50 == 0:\n",
    "            costs.append(J)\n",
    "            print(\"cost after \"+str(i)+\" iterations\"+str(J))\n",
    "    hypothesis_train = hypothesis(theta, X_train)\n",
    "    hypothesis_test = hypothesis(theta, X_test)\n",
    "    return hypothesis_train,hypothesis_test\n",
    "    "
   ]
  },
  {
   "cell_type": "code",
   "execution_count": 14,
   "metadata": {},
   "outputs": [],
   "source": [
    "#load data\n",
    "X_train,Y_train,X_test,Y_test=load_mnist_data()"
   ]
  },
  {
   "cell_type": "code",
   "execution_count": 15,
   "metadata": {},
   "outputs": [
    {
     "name": "stdout",
     "output_type": "stream",
     "text": [
      "[9]\n"
     ]
    },
    {
     "data": {
      "text/plain": [
       "<matplotlib.image.AxesImage at 0x25b68f0fc88>"
      ]
     },
     "execution_count": 15,
     "metadata": {},
     "output_type": "execute_result"
    },
    {
     "data": {
      "image/png": "[encoded data removed]",
      "text/plain": [
       "<Figure size 432x288 with 1 Axes>"
      ]
     },
     "metadata": {
      "needs_background": "light"
     },
     "output_type": "display_data"
    }
   ],
   "source": [
    "# view data\n",
    "print(Y_train[4])\n",
    "imshow(X_train[4].reshape(28,28))"
   ]
  },
  {
   "cell_type": "code",
   "execution_count": 16,
   "metadata": {},
   "outputs": [
    {
     "data": {
      "text/plain": [
       "(60000, 784)"
      ]
     },
     "execution_count": 16,
     "metadata": {},
     "output_type": "execute_result"
    }
   ],
   "source": [
    "# normalization\n",
    "X_train,X_test=max_normalization(X_train,X_test)\n",
    "X_train.shape"
   ]
  },
  {
   "cell_type": "code",
   "execution_count": 17,
   "metadata": {},
   "outputs": [
    {
     "data": {
      "text/plain": [
       "(785, 60000)"
      ]
     },
     "execution_count": 17,
     "metadata": {},
     "output_type": "execute_result"
    }
   ],
   "source": [
    "#append train\n",
    "X=np.ones([X_train.shape[0],1]) \n",
    "X_train=np.append(X,X_train,axis=1) #(m,n)\n",
    "X_train=X_train.T #(n,m)\n",
    "Y_train=Y_train.T #(1,m)\n",
    "X_train.shape"
   ]
  },
  {
   "cell_type": "code",
   "execution_count": 18,
   "metadata": {},
   "outputs": [],
   "source": [
    "#append test\n",
    "X=np.ones([X_test.shape[0],1]) \n",
    "X_test=np.append(X,X_test,axis=1) #(m,n)\n",
    "X_test=X_test.T #(n,m)\n",
    "Y_test=Y_test.T #(1,m)\n"
   ]
  },
  {
   "cell_type": "code",
   "execution_count": 19,
   "metadata": {},
   "outputs": [
    {
     "data": {
      "text/plain": [
       "(1, 10000)"
      ]
     },
     "execution_count": 19,
     "metadata": {},
     "output_type": "execute_result"
    }
   ],
   "source": [
    "Y_test.shape"
   ]
  },
  {
   "cell_type": "code",
   "execution_count": 20,
   "metadata": {},
   "outputs": [
    {
     "name": "stdout",
     "output_type": "stream",
     "text": [
      "(785, 60000)\n",
      "(1, 60000)\n",
      "For 0\n",
      "cost after 0 iterations0.6931471805599453\n",
      "cost after 50 iterations0.6665795416781446\n",
      "cost after 100 iterations0.6423646582982208\n",
      "cost after 150 iterations0.6202763592080887\n",
      "cost after 200 iterations0.6001066296947183\n",
      "cost after 250 iterations0.5816656230201736\n",
      "cost after 300 iterations0.5647811324844361\n",
      "cost after 350 iterations0.5492977000659343\n",
      "cost after 400 iterations0.5350755025935159\n",
      "cost after 450 iterations0.5219891230772183\n",
      "For 1\n",
      "cost after 0 iterations0.6931471805599453\n",
      "cost after 50 iterations0.6665795416781446\n",
      "cost after 100 iterations0.6423646582982208\n",
      "cost after 150 iterations0.6202763592080887\n",
      "cost after 200 iterations0.6001066296947183\n",
      "cost after 250 iterations0.5816656230201736\n",
      "cost after 300 iterations0.5647811324844361\n",
      "cost after 350 iterations0.5492977000659343\n",
      "cost after 400 iterations0.5350755025935159\n",
      "cost after 450 iterations0.5219891230772183\n",
      "For 2\n",
      "cost after 0 iterations0.6931471805599453\n",
      "cost after 50 iterations0.6501467465335781\n",
      "cost after 100 iterations0.6111260777269865\n",
      "cost after 150 iterations0.5756903179038589\n",
      "cost after 200 iterations0.5434732494443996\n",
      "cost after 250 iterations0.5141396994256621\n",
      "cost after 300 iterations0.4873860511345663\n",
      "cost after 350 iterations0.4629394234055263\n",
      "cost after 400 iterations0.44055598829565945\n",
      "cost after 450 iterations0.42001879284960086\n",
      "For 3\n",
      "cost after 0 iterations0.6931471805599453\n",
      "cost after 50 iterations0.6501467465335781\n",
      "cost after 100 iterations0.6111260777269865\n",
      "cost after 150 iterations0.5756903179038589\n",
      "cost after 200 iterations0.5434732494443996\n",
      "cost after 250 iterations0.5141396994256621\n",
      "cost after 300 iterations0.4873860511345663\n",
      "cost after 350 iterations0.4629394234055263\n",
      "cost after 400 iterations0.44055598829565945\n",
      "cost after 450 iterations0.42001879284960086\n",
      "For 4\n",
      "cost after 0 iterations0.6931471805599453\n",
      "cost after 50 iterations0.6501467465335781\n",
      "cost after 100 iterations0.6111260777269865\n",
      "cost after 150 iterations0.5756903179038589\n",
      "cost after 200 iterations0.5434732494443996\n",
      "cost after 250 iterations0.5141396994256621\n",
      "cost after 300 iterations0.4873860511345663\n",
      "cost after 350 iterations0.4629394234055263\n",
      "cost after 400 iterations0.44055598829565945\n",
      "cost after 450 iterations0.42001879284960086\n",
      "For 5\n",
      "cost after 0 iterations0.6931471805599453\n",
      "cost after 50 iterations0.6501467465335781\n",
      "cost after 100 iterations0.6111260777269865\n",
      "cost after 150 iterations0.5756903179038589\n",
      "cost after 200 iterations0.5434732494443996\n",
      "cost after 250 iterations0.5141396994256621\n",
      "cost after 300 iterations0.4873860511345663\n",
      "cost after 350 iterations0.4629394234055263\n",
      "cost after 400 iterations0.44055598829565945\n",
      "cost after 450 iterations0.42001879284960086\n",
      "For 6\n",
      "cost after 0 iterations0.6931471805599453\n",
      "cost after 50 iterations0.6501467465335781\n",
      "cost after 100 iterations0.6111260777269865\n",
      "cost after 150 iterations0.5756903179038589\n",
      "cost after 200 iterations0.5434732494443996\n",
      "cost after 250 iterations0.5141396994256621\n",
      "cost after 300 iterations0.4873860511345663\n",
      "cost after 350 iterations0.4629394234055263\n",
      "cost after 400 iterations0.44055598829565945\n",
      "cost after 450 iterations0.42001879284960086\n",
      "For 7\n",
      "cost after 0 iterations0.6931471805599453\n",
      "cost after 50 iterations0.6501467465335781\n",
      "cost after 100 iterations0.6111260777269865\n",
      "cost after 150 iterations0.5756903179038589\n",
      "cost after 200 iterations0.5434732494443996\n",
      "cost after 250 iterations0.5141396994256621\n",
      "cost after 300 iterations0.4873860511345663\n",
      "cost after 350 iterations0.4629394234055263\n",
      "cost after 400 iterations0.44055598829565945\n",
      "cost after 450 iterations0.42001879284960086\n",
      "For 8\n",
      "cost after 0 iterations0.6931471805599453\n",
      "cost after 50 iterations0.6501467465335781\n",
      "cost after 100 iterations0.6111260777269865\n",
      "cost after 150 iterations0.5756903179038589\n",
      "cost after 200 iterations0.5434732494443996\n",
      "cost after 250 iterations0.5141396994256621\n",
      "cost after 300 iterations0.4873860511345663\n",
      "cost after 350 iterations0.4629394234055263\n",
      "cost after 400 iterations0.44055598829565945\n",
      "cost after 450 iterations0.42001879284960086\n",
      "For 9\n",
      "cost after 0 iterations0.6931471805599453\n",
      "cost after 50 iterations0.6501467465335781\n",
      "cost after 100 iterations0.6111260777269865\n",
      "cost after 150 iterations0.5756903179038589\n",
      "cost after 200 iterations0.5434732494443996\n",
      "cost after 250 iterations0.5141396994256621\n",
      "cost after 300 iterations0.4873860511345663\n",
      "cost after 350 iterations0.4629394234055263\n",
      "cost after 400 iterations0.44055598829565945\n",
      "cost after 450 iterations0.42001879284960086\n"
     ]
    }
   ],
   "source": [
    "hx,Y_predicted_train,Y_predicted_test=model(0.0001,X_train,Y_train,X_test,Y_test,num_of_iterations=500)"
   ]
  },
  {
   "cell_type": "code",
   "execution_count": 21,
   "metadata": {},
   "outputs": [],
   "source": [
    "train=confusion_matrix(Y_train, Y_predicted_train)"
   ]
  },
  {
   "cell_type": "code",
   "execution_count": 22,
   "metadata": {},
   "outputs": [
    {
     "data": {
      "text/plain": [
       "array([[ 830,  348,  809,  331,  853,  324,  923,  298,  919,  288],\n",
       "       [ 989,  381,  923,  356, 1043,  418,  968,  324, 1007,  333],\n",
       "       [ 865,  322,  808,  304,  919,  310,  902,  314,  881,  333],\n",
       "       [ 837,  349,  832,  362,  939,  356,  865,  313,  934,  344],\n",
       "       [ 847,  325,  812,  303,  853,  314,  886,  314,  880,  308],\n",
       "       [ 795,  296,  744,  322,  803,  305,  780,  263,  831,  282],\n",
       "       [ 924,  313,  784,  292,  904,  302,  852,  318,  895,  334],\n",
       "       [ 914,  373,  866,  323,  982,  372,  863,  318,  938,  316],\n",
       "       [ 882,  291,  791,  302,  902,  326,  825,  317,  902,  313],\n",
       "       [ 883,  312,  849,  319,  884,  341,  820,  335,  891,  315]])"
      ]
     },
     "execution_count": 22,
     "metadata": {},
     "output_type": "execute_result"
    }
   ],
   "source": [
    "train"
   ]
  },
  {
   "cell_type": "code",
   "execution_count": 23,
   "metadata": {},
   "outputs": [],
   "source": [
    "test=confusion_matrix(Y_test, Y_predicted_test)"
   ]
  },
  {
   "cell_type": "code",
   "execution_count": 24,
   "metadata": {},
   "outputs": [],
   "source": [
    "#accuracy ,recall ,precision\n",
    "#for zero\n",
    "TP=test[0,0]\n",
    "FP=np.sum(test[0,1:],axis=0)\n",
    "TN=np.sum(test[1:,1:])\n",
    "FN=np.sum(test[1:,0])\n",
    "accuracy=(TP+TN)/(TP+TN+FP+FN)\n",
    "recall=(TP)/(TP+FN)\n",
    "precision=(TP)/(TP+FP)"
   ]
  },
  {
   "cell_type": "code",
   "execution_count": 25,
   "metadata": {},
   "outputs": [],
   "source": [
    "#for one\n",
    "TP=test[1,1]\n",
    "FP=np.sum(test[1,1:],axis=0)+test[1,0]\n",
    "TN=np.sum(test[2:,2:])+test[1,0]\n",
    "FN=np.sum(test[1:,0])\n",
    "accuracy=(TP+TN)/(TP+TN+FP+FN)\n",
    "recall=(TP)/(TP+FN)\n",
    "precision=(TP)/(TP+FP)"
   ]
  },
  {
   "cell_type": "code",
   "execution_count": 26,
   "metadata": {},
   "outputs": [
    {
     "data": {
      "text/plain": [
       "0.09402460456942004"
      ]
     },
     "execution_count": 26,
     "metadata": {},
     "output_type": "execute_result"
    }
   ],
   "source": [
    "recall"
   ]
  },
  {
   "cell_type": "code",
   "execution_count": 27,
   "metadata": {},
   "outputs": [
    {
     "data": {
      "text/plain": [
       "0.0861513687600644"
      ]
     },
     "execution_count": 27,
     "metadata": {},
     "output_type": "execute_result"
    }
   ],
   "source": [
    "precision"
   ]
  },
  {
   "cell_type": "code",
   "execution_count": 28,
   "metadata": {},
   "outputs": [
    {
     "data": {
      "text/plain": [
       "0.7518047438982468"
      ]
     },
     "execution_count": 28,
     "metadata": {},
     "output_type": "execute_result"
    }
   ],
   "source": [
    "accuracy"
   ]
  },
  {
   "cell_type": "code",
   "execution_count": null,
   "metadata": {},
   "outputs": [],
   "source": []
  },
  {
   "cell_type": "code",
   "execution_count": null,
   "metadata": {},
   "outputs": [],
   "source": []
  },
  {
   "cell_type": "code",
   "execution_count": null,
   "metadata": {},
   "outputs": [],
   "source": []
  },
  {
   "cell_type": "code",
   "execution_count": null,
   "metadata": {},
   "outputs": [],
   "source": []
  },
  {
   "cell_type": "code",
   "execution_count": null,
   "metadata": {},
   "outputs": [],
   "source": []
  },
  {
   "cell_type": "code",
   "execution_count": null,
   "metadata": {},
   "outputs": [],
   "source": []
  },
  {
   "cell_type": "code",
   "execution_count": null,
   "metadata": {},
   "outputs": [],
   "source": []
  }
 ],
 "metadata": {
  "kernelspec": {
   "display_name": "Python 3",
   "language": "python",
   "name": "python3"
  },
  "language_info": {
   "codemirror_mode": {
    "name": "ipython",
    "version": 3
   },
   "file_extension": ".py",
   "mimetype": "text/x-python",
   "name": "python",
   "nbconvert_exporter": "python",
   "pygments_lexer": "ipython3",
   "version": "3.7.4"
  }
 },
 "nbformat": 4,
 "nbformat_minor": 2
}
