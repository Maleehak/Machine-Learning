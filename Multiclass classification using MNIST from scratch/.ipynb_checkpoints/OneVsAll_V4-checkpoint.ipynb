{
 "cells": [
  {
   "cell_type": "code",
   "execution_count": 1,
   "metadata": {},
   "outputs": [],
   "source": [
    "from mnist.loader import MNIST\n",
    "import numpy as np\n",
    "from pylab import *"
   ]
  },
  {
   "cell_type": "code",
   "execution_count": 2,
   "metadata": {},
   "outputs": [],
   "source": [
    "def load_mnist_data():\n",
    "    mnist=MNIST('dataset')\n",
    "    ##train data\n",
    "    train_images,train_labels=mnist.load_training()\n",
    "    train_images=np.asarray(train_images)\n",
    "    train_labels=np.asarray(train_labels)\n",
    "    train_labels=train_labels.reshape([train_labels.shape[0],1])\n",
    "    #print(mnist.display(train_images[5]))\n",
    "    ##test data\n",
    "    test_images,test_labels=mnist.load_testing()\n",
    "    test_images=np.asarray(test_images)\n",
    "    test_labels=np.asarray(test_labels)\n",
    "    test_labels=test_labels.reshape([test_labels.shape[0],1])\n",
    "    return train_images,train_labels,test_images,test_labels\n"
   ]
  },
  {
   "cell_type": "code",
   "execution_count": 3,
   "metadata": {},
   "outputs": [],
   "source": [
    "def one_vs_all(k,Y_train):\n",
    "    Y=[]\n",
    "    #train\n",
    "    for i in range(k):\n",
    "        Y_tr=np.where(Y_train==i,1,0)\n",
    "        Y.append(Y_tr)\n",
    "    Y_arr=np.asarray(Y)\n",
    "    Y_arr=Y_arr.reshape(Y_arr.shape[0],Y_arr.shape[2])\n",
    "    return Y_arr\n",
    "    "
   ]
  },
  {
   "cell_type": "code",
   "execution_count": 4,
   "metadata": {},
   "outputs": [],
   "source": [
    "def max_normalization(X_train,X_test):\n",
    "    X_train=X_train/255\n",
    "    X_test=X_test/255\n",
    "    return X_train,X_test"
   ]
  },
  {
   "cell_type": "code",
   "execution_count": 5,
   "metadata": {},
   "outputs": [],
   "source": [
    "def initialize_parameters(n,k):\n",
    "    #theta=np.random.randint(-1,2,size=[n,1])\n",
    "    theta=np.zeros([n,k])\n",
    "    return theta"
   ]
  },
  {
   "cell_type": "code",
   "execution_count": 6,
   "metadata": {},
   "outputs": [],
   "source": [
    "def sigmoid(z):\n",
    "    hx=1/(1+(np.exp(-z)))\n",
    "    return hx"
   ]
  },
  {
   "cell_type": "code",
   "execution_count": 7,
   "metadata": {},
   "outputs": [],
   "source": [
    "def hypothesis(theta, X):\n",
    "    z=np.dot(theta.T,X)\n",
    "    hx =sigmoid(z)     \n",
    "    return hx"
   ]
  },
  {
   "cell_type": "code",
   "execution_count": 8,
   "metadata": {},
   "outputs": [],
   "source": [
    "def cost(y,hx):\n",
    "    m=y.shape[1]\n",
    "    cost=-((1/m)*np.sum((y*np.log(hx)+(1-y)*(np.log(1-hx))))) \n",
    "    return cost"
   ]
  },
  {
   "cell_type": "code",
   "execution_count": 9,
   "metadata": {},
   "outputs": [],
   "source": [
    "def predict(hx):\n",
    "    m = hx.shape[1]\n",
    "    Y_prediction=hx.argmax(axis=0)\n",
    "    return Y_prediction"
   ]
  },
  {
   "cell_type": "code",
   "execution_count": 10,
   "metadata": {},
   "outputs": [],
   "source": [
    "def derivative_of_cost(X,hx,y):\n",
    "    m=y.shape[0]\n",
    "    d_theeta=(1/m)*(np.dot(X,(hx-y).T))\n",
    "    return d_theeta"
   ]
  },
  {
   "cell_type": "code",
   "execution_count": 11,
   "metadata": {},
   "outputs": [],
   "source": [
    "def confusion_matrix(Y_actual, Y_predicted):\n",
    "    classes = 10\n",
    "    Y_actual=Y_actual.reshape(Y_actual.shape[1])\n",
    "    Y_predicted=Y_predicted.reshape(Y_predicted.shape[1])\n",
    "    confusion_mtx=np.bincount(Y_actual * classes + Y_predicted).reshape((classes, classes))\n",
    "    return confusion_mtx"
   ]
  },
  {
   "cell_type": "code",
   "execution_count": 12,
   "metadata": {},
   "outputs": [],
   "source": [
    "def model(alpha,X_train,Y_train,X_test,Y_test,num_of_iterations):\n",
    "    m=Y_train.shape[1]\n",
    "    k=10\n",
    "    costs=[]\n",
    "    Y_train=one_vs_all(k,Y_train)\n",
    "    theta=initialize_parameters(X_train.shape[0],k)\n",
    "    J=100000\n",
    "    i=0\n",
    "    while J>0.01:\n",
    "        z=np.dot(theta.T,X_train)\n",
    "        hx=sigmoid(z)\n",
    "        J=cost(Y_train,hx)\n",
    "        der=derivative_of_cost(X_train,hx,Y_train)\n",
    "        theta=theta-(alpha)*(der)\n",
    "        i=i+1\n",
    "        if i % 50 == 0:\n",
    "            costs.append(J)\n",
    "            print(\"cost after \"+str(i)+\"  iterations: \"+str(J))\n",
    "    #train        \n",
    "    hx_train = hypothesis(theta, X_train)\n",
    "    Y_predicted_train=predict(hx_train)\n",
    "    Y_predicted_train=Y_predicted_train.reshape(1,Y_predicted_train.shape[0])\n",
    "    ##test\n",
    "    hx_test = hypothesis(theta, X_test)\n",
    "    Y_predicted_test=predict(hx_test)\n",
    "    Y_predicted_test=Y_predicted_test.reshape(1,Y_predicted_test.shape[0])\n",
    "    return Y_predicted_train,Y_test"
   ]
  },
  {
   "cell_type": "code",
   "execution_count": 13,
   "metadata": {},
   "outputs": [],
   "source": [
    "X_train,Y_train,X_test,Y_test=load_mnist_data()"
   ]
  },
  {
   "cell_type": "code",
   "execution_count": 14,
   "metadata": {},
   "outputs": [
    {
     "name": "stdout",
     "output_type": "stream",
     "text": [
      "[1]\n"
     ]
    },
    {
     "data": {
      "text/plain": [
       "<matplotlib.image.AxesImage at 0x121163c75c8>"
      ]
     },
     "execution_count": 14,
     "metadata": {},
     "output_type": "execute_result"
    },
    {
     "data": {
      "image/png": "[encoded data removed]",
      "text/plain": [
       "<Figure size 432x288 with 1 Axes>"
      ]
     },
     "metadata": {
      "needs_background": "light"
     },
     "output_type": "display_data"
    }
   ],
   "source": [
    "# view data\n",
    "print(Y_train[3])\n",
    "imshow(X_train[3,:].reshape(28,28))"
   ]
  },
  {
   "cell_type": "code",
   "execution_count": 15,
   "metadata": {},
   "outputs": [
    {
     "data": {
      "text/plain": [
       "(60000, 1)"
      ]
     },
     "execution_count": 15,
     "metadata": {},
     "output_type": "execute_result"
    }
   ],
   "source": [
    "# normalization\n",
    "X_train,X_test=max_normalization(X_train,X_test)\n",
    "Y_train.shape"
   ]
  },
  {
   "cell_type": "code",
   "execution_count": 16,
   "metadata": {},
   "outputs": [
    {
     "data": {
      "text/plain": [
       "(785, 60000)"
      ]
     },
     "execution_count": 16,
     "metadata": {},
     "output_type": "execute_result"
    }
   ],
   "source": [
    "#append train\n",
    "X=np.ones([X_train.shape[0],1]) \n",
    "X_train=np.append(X,X_train,axis=1) #(m,n)\n",
    "X_train=X_train.T #(n,m)\n",
    "Y_train=Y_train.T #(1,m)\n",
    "X_train.shape"
   ]
  },
  {
   "cell_type": "code",
   "execution_count": 17,
   "metadata": {},
   "outputs": [],
   "source": [
    "#append test\n",
    "X=np.ones([X_test.shape[0],1]) \n",
    "X_test=np.append(X,X_test,axis=1) #(m,n)\n",
    "X_test=X_test.T #(n,m)\n",
    "Y_test=Y_test.T #(1,m)"
   ]
  },
  {
   "cell_type": "code",
   "execution_count": null,
   "metadata": {},
   "outputs": [],
   "source": [
    "Y_predicted_train,Y_predicted_test=model(0.0005,X_train,Y_train,X_test,Y_test,num_of_iterations=1000)"
   ]
  },
  {
   "cell_type": "code",
   "execution_count": 19,
   "metadata": {},
   "outputs": [],
   "source": [
    "test=confusion_matrix(Y_test,Y_predicted_test)"
   ]
  },
  {
   "cell_type": "code",
   "execution_count": 20,
   "metadata": {},
   "outputs": [],
   "source": [
    "train=confusion_matrix(Y_train,Y_predicted_train)"
   ]
  },
  {
   "cell_type": "code",
   "execution_count": 21,
   "metadata": {},
   "outputs": [
    {
     "data": {
      "text/plain": [
       "array([[5478,    0,   74,    4,   25,   87,  152,    0,    1,  102],\n",
       "       [   0, 6049,  394,    7,    7,   97,   29,    6,    3,  150],\n",
       "       [ 106,   61, 5102,   58,  193,   13,  195,   78,   36,  116],\n",
       "       [ 107,   34,  471, 4245,   22,  525,   79,   28,   27,  593],\n",
       "       [  11,   21,   27,    0, 4819,    1,   63,    5,    4,  891],\n",
       "       [ 197,   71,  251,  186,  324, 3723,  189,   26,    6,  448],\n",
       "       [  85,   47,  205,    2,  150,  126, 5299,    0,    0,    4],\n",
       "       [  90,   85,  145,    2,  213,    2,    2, 4751,    4,  971],\n",
       "       [  65,  158,  625,  337,  154,  693,   77,   21, 2319, 1402],\n",
       "       [  65,   25,   55,   47,  420,   25,    5,   70,    6, 5231]],\n",
       "      dtype=int64)"
      ]
     },
     "execution_count": 21,
     "metadata": {},
     "output_type": "execute_result"
    }
   ],
   "source": [
    "train"
   ]
  },
  {
   "cell_type": "code",
   "execution_count": 22,
   "metadata": {},
   "outputs": [
    {
     "data": {
      "text/plain": [
       "array([[ 980,    0,    0,    0,    0,    0,    0,    0,    0,    0],\n",
       "       [   0, 1135,    0,    0,    0,    0,    0,    0,    0,    0],\n",
       "       [   0,    0, 1032,    0,    0,    0,    0,    0,    0,    0],\n",
       "       [   0,    0,    0, 1010,    0,    0,    0,    0,    0,    0],\n",
       "       [   0,    0,    0,    0,  982,    0,    0,    0,    0,    0],\n",
       "       [   0,    0,    0,    0,    0,  892,    0,    0,    0,    0],\n",
       "       [   0,    0,    0,    0,    0,    0,  958,    0,    0,    0],\n",
       "       [   0,    0,    0,    0,    0,    0,    0, 1028,    0,    0],\n",
       "       [   0,    0,    0,    0,    0,    0,    0,    0,  974,    0],\n",
       "       [   0,    0,    0,    0,    0,    0,    0,    0,    0, 1009]],\n",
       "      dtype=int64)"
      ]
     },
     "execution_count": 22,
     "metadata": {},
     "output_type": "execute_result"
    }
   ],
   "source": [
    "test"
   ]
  },
  {
   "cell_type": "code",
   "execution_count": 23,
   "metadata": {},
   "outputs": [],
   "source": [
    "#accuracy ,recall ,precision\n",
    "#for zero\n",
    "TP=test[0,0]\n",
    "FP=np.sum(test[0,1:],axis=0)\n",
    "TN=np.sum(test[1:,1:])\n",
    "FN=np.sum(test[1:,0])\n",
    "accuracy=(TP+TN)/(TP+TN+FP+FN)\n",
    "recall=(TP)/(TP+FN)\n",
    "precision=(TP)/(TP+FP)"
   ]
  },
  {
   "cell_type": "code",
   "execution_count": 24,
   "metadata": {},
   "outputs": [
    {
     "name": "stdout",
     "output_type": "stream",
     "text": [
      "For zero:\n",
      "Accuracy: 1.0 Recall : 1.0 Precision: 1.0\n"
     ]
    }
   ],
   "source": [
    "print(\"For zero:\")\n",
    "print(\"Accuracy: \"+str(accuracy)+\" Recall : \"+str(recall)+\" Precision: \"+str(precision))"
   ]
  },
  {
   "cell_type": "code",
   "execution_count": null,
   "metadata": {},
   "outputs": [],
   "source": []
  }
 ],
 "metadata": {
  "kernelspec": {
   "display_name": "Python 3",
   "language": "python",
   "name": "python3"
  },
  "language_info": {
   "codemirror_mode": {
    "name": "ipython",
    "version": 3
   },
   "file_extension": ".py",
   "mimetype": "text/x-python",
   "name": "python",
   "nbconvert_exporter": "python",
   "pygments_lexer": "ipython3",
   "version": "3.7.4"
  }
 },
 "nbformat": 4,
 "nbformat_minor": 2
}
